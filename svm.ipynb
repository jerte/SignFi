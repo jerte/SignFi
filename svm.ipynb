{
 "cells": [
  {
   "cell_type": "markdown",
   "metadata": {},
   "source": [
    "## TO DO\n",
    "add accuracy plots, confusion matrix\n",
    "\n",
    "kfolds, stratified kfold\n",
    "\n",
    "scores by # words used for classification and dataset\n",
    "\n",
    "track best words for classification\n",
    "\n",
    "PCA?"
   ]
  },
  {
   "cell_type": "code",
   "execution_count": 487,
   "metadata": {},
   "outputs": [],
   "source": [
    "#from imblearn.over_sampling import RandomOverSampler, SMOTE\n",
    "#import matplotlib.pyplot as plt\n",
    "#from sklearn.decomposition import PCA\n",
    "\n",
    "import numpy as np\n",
    "from sklearn.model_selection import train_test_split, KFold, StratifiedKFold\n",
    "from sklearn import svm \n",
    "from sklearn.metrics import accuracy_score\n",
    "from statistics import mean\n",
    "import random\n",
    "from scipy.io import loadmat"
   ]
  },
  {
   "cell_type": "code",
   "execution_count": 488,
   "metadata": {},
   "outputs": [],
   "source": [
    "# Variables to tweak\n",
    "num_words = 20\n",
    "dset = 'dl'\n",
    "#kfolds = "
   ]
  },
  {
   "cell_type": "code",
   "execution_count": 489,
   "metadata": {},
   "outputs": [
    {
     "name": "stdout",
     "output_type": "stream",
     "text": [
      "['csid_lab', '__version__', 'label_lab', '__header__', '__globals__']\n"
     ]
    }
   ],
   "source": [
    "if dset = 'dl':\n",
    "    x = loadmat('dataset_lab_276_dl.mat')\n",
    "    data = x['csid_lab']\n",
    "    print(x['csid_lab'][0].shape)\n",
    "elif dset = 'ul':\n",
    "    x = loadmat('dataset_lab_276_ul.mat')\n",
    "    data = x['csiu_lab']\n",
    "    print(x['csiu_lab'][0].shape)\n",
    "elif dset = 'home':\n",
    "    x = loadmat('dataset_home_276.mat')\n",
    "    data = x['csid_home']\n",
    "    print(x['csid_home'][0].shape)\n",
    "    \n",
    "print(x.keys())"
   ]
  },
  {
   "cell_type": "code",
   "execution_count": 468,
   "metadata": {
    "scrolled": true
   },
   "outputs": [
    {
     "name": "stdout",
     "output_type": "stream",
     "text": [
      "276\n",
      "5520\n",
      "FINISH\n"
     ]
    }
   ],
   "source": [
    "with open('sign_labels.csv') as f:\n",
    "    labels = f.readlines()[0].split('\\r')\n",
    "    labels[0] = labels[0][3:]               # whitespace error with first element\n",
    "    print(len(labels))\n",
    "\n",
    "# make ground truth for each element\n",
    "label_ind = [i[0]-1 for i in x['label_lab']]\n",
    "print(len(label_ind))\n",
    "print(labels[label_ind[0]]) #first label in dataset"
   ]
  },
  {
   "cell_type": "code",
   "execution_count": 490,
   "metadata": {},
   "outputs": [],
   "source": [
    "random_words = []\n",
    "while(len(random_words)!=num_words):\n",
    "    a = int(random.random() * 276)\n",
    "    if a not in random_words:\n",
    "        random_words.append(a)"
   ]
  },
  {
   "cell_type": "code",
   "execution_count": 479,
   "metadata": {},
   "outputs": [
    {
     "name": "stdout",
     "output_type": "stream",
     "text": [
      "(array([  16,  292,  568,  844, 1120, 1396, 1672, 1948, 2224, 2500, 2776,\n",
      "       3052, 3328, 3604, 3880, 4156, 4432, 4708, 4984, 5260]), 0)\n",
      "ANIMAL\n",
      "(array([  15,  291,  567,  843, 1119, 1395, 1671, 1947, 2223, 2499, 2775,\n",
      "       3051, 3327, 3603, 3879, 4155, 4431, 4707, 4983, 5259]), 1)\n",
      "YES\n",
      "(array([ 274,  550,  826, 1102, 1378, 1654, 1930, 2206, 2482, 2758, 3034,\n",
      "       3310, 3586, 3862, 4138, 4414, 4690, 4966, 5242, 5518]), 2)\n",
      "CLOSE\n",
      "(array([ 202,  478,  754, 1030, 1306, 1582, 1858, 2134, 2410, 2686, 2962,\n",
      "       3238, 3514, 3790, 4066, 4342, 4618, 4894, 5170, 5446]), 3)\n",
      "DRAW\n",
      "(array([  79,  355,  631,  907, 1183, 1459, 1735, 2011, 2287, 2563, 2839,\n",
      "       3115, 3391, 3667, 3943, 4219, 4495, 4771, 5047, 5323]), 4)\n",
      "CHILDREN\n",
      "(array([ 171,  447,  723,  999, 1275, 1551, 1827, 2103, 2379, 2655, 2931,\n",
      "       3207, 3483, 3759, 4035, 4311, 4587, 4863, 5139, 5415]), 5)\n",
      "KITCHEN\n",
      "(array([ 269,  545,  821, 1097, 1373, 1649, 1925, 2201, 2477, 2753, 3029,\n",
      "       3305, 3581, 3857, 4133, 4409, 4685, 4961, 5237, 5513]), 6)\n",
      "STOP\n",
      "(array([ 104,  380,  656,  932, 1208, 1484, 1760, 2036, 2312, 2588, 2864,\n",
      "       3140, 3416, 3692, 3968, 4244, 4520, 4796, 5072, 5348]), 7)\n",
      "UNCLE\n",
      "(array([ 244,  520,  796, 1072, 1348, 1624, 1900, 2176, 2452, 2728, 3004,\n",
      "       3280, 3556, 3832, 4108, 4384, 4660, 4936, 5212, 5488]), 8)\n",
      "THURSDAY\n",
      "(array([ 136,  412,  688,  964, 1240, 1516, 1792, 2068, 2344, 2620, 2896,\n",
      "       3172, 3448, 3724, 4000, 4276, 4552, 4828, 5104, 5380]), 9)\n",
      "LEMON\n",
      "(array([   9,  285,  561,  837, 1113, 1389, 1665, 1941, 2217, 2493, 2769,\n",
      "       3045, 3321, 3597, 3873, 4149, 4425, 4701, 4977, 5253]), 10)\n",
      "PLEASE\n",
      "(array([  90,  366,  642,  918, 1194, 1470, 1746, 2022, 2298, 2574, 2850,\n",
      "       3126, 3402, 3678, 3954, 4230, 4506, 4782, 5058, 5334]), 11)\n",
      "GRANDFATHER\n",
      "(array([  20,  296,  572,  848, 1124, 1400, 1676, 1952, 2228, 2504, 2780,\n",
      "       3056, 3332, 3608, 3884, 4160, 4436, 4712, 4988, 5264]), 12)\n",
      "COW\n",
      "(array([ 183,  459,  735, 1011, 1287, 1563, 1839, 2115, 2391, 2667, 2943,\n",
      "       3219, 3495, 3771, 4047, 4323, 4599, 4875, 5151, 5427]), 13)\n",
      "HEARING\n",
      "(array([ 226,  502,  778, 1054, 1330, 1606, 1882, 2158, 2434, 2710, 2986,\n",
      "       3262, 3538, 3814, 4090, 4366, 4642, 4918, 5194, 5470]), 14)\n",
      "BEFORE\n",
      "(array([ 154,  430,  706,  982, 1258, 1534, 1810, 2086, 2362, 2638, 2914,\n",
      "       3190, 3466, 3742, 4018, 4294, 4570, 4846, 5122, 5398]), 15)\n",
      "SWEET\n",
      "(array([ 161,  437,  713,  989, 1265, 1541, 1817, 2093, 2369, 2645, 2921,\n",
      "       3197, 3473, 3749, 4025, 4301, 4577, 4853, 5129, 5405]), 16)\n",
      "BATHROOM\n",
      "(array([ 128,  404,  680,  956, 1232, 1508, 1784, 2060, 2336, 2612, 2888,\n",
      "       3164, 3440, 3716, 3992, 4268, 4544, 4820, 5096, 5372]), 17)\n",
      "FOOD\n",
      "(array([  19,  295,  571,  847, 1123, 1399, 1675, 1951, 2227, 2503, 2779,\n",
      "       3055, 3331, 3607, 3883, 4159, 4435, 4711, 4987, 5263]), 18)\n",
      "CAT\n",
      "(array([ 137,  413,  689,  965, 1241, 1517, 1793, 2069, 2345, 2621, 2897,\n",
      "       3173, 3449, 3725, 4001, 4277, 4553, 4829, 5105, 5381]), 19)\n",
      "LETTUCE\n"
     ]
    }
   ],
   "source": [
    "#\n",
    "#\n",
    "label_indices = []\n",
    "\n",
    "for i in random_words:\n",
    "    label_indices.append(np.where(x['label_lab']==[i])[0]) # indices of where labels are the same \n",
    "                                                     # throughout dataset (same words)\n",
    "\n",
    "# words being used\n",
    "for i in range(0, len(label_indices)):\n",
    "    print(labels[label_indices[i][0]])\n"
   ]
  },
  {
   "cell_type": "code",
   "execution_count": 480,
   "metadata": {},
   "outputs": [
    {
     "data": {
      "text/plain": [
       "[13, 18, 9, 4, 1]"
      ]
     },
     "execution_count": 480,
     "metadata": {},
     "output_type": "execute_result"
    }
   ],
   "source": [
    "# randomly sample percent% from each sample for testing\n",
    "\n",
    "def get_rand_indices(size, percent):\n",
    "    test_set_size = int(size * percent)\n",
    "    test_set_ind = []\n",
    "\n",
    "    while(len(test_set_ind)<=test_set_size):\n",
    "        rand = int(random.random() * size)\n",
    "        if rand not in test_set_ind:\n",
    "            test_set_ind.append(rand)\n",
    "    return test_set_ind\n",
    "\n",
    "\n",
    "get_rand_indices(20, .2)"
   ]
  },
  {
   "cell_type": "code",
   "execution_count": 481,
   "metadata": {},
   "outputs": [],
   "source": [
    "x_train = []\n",
    "x_test = []\n",
    "y_train = []\n",
    "y_test = []\n",
    "\n",
    "for i in label_indices:\n",
    "    test_indices = get_rand_indices(len(i), .2)\n",
    "    train_indices = [j for j in range(0, len(i)) if j not in test_indices]\n",
    "    for j in test_indices:\n",
    "        x_test.append(data[:,:,:,i[j]])\n",
    "        y_test.append(i[j]%276)\n",
    "        \n",
    "    for j in train_indices:\n",
    "        x_train.append(data[:,:,:,i[j]])\n",
    "        y_train.append(i[j]%276)"
   ]
  },
  {
   "cell_type": "code",
   "execution_count": 482,
   "metadata": {},
   "outputs": [
    {
     "name": "stdout",
     "output_type": "stream",
     "text": [
      "(300, 200, 30, 3)\n",
      "(300,)\n",
      "(100, 200, 30, 3)\n",
      "(100,)\n",
      "20\n"
     ]
    }
   ],
   "source": [
    "print(np.shape(x_train))\n",
    "print(np.shape(y_train))\n",
    "print(np.shape(x_test))\n",
    "print(np.shape(y_test))"
   ]
  },
  {
   "cell_type": "code",
   "execution_count": 483,
   "metadata": {},
   "outputs": [],
   "source": [
    "# simplify indexes to 0 - num_words\n",
    "\n",
    "def to_categorical_(train, test):\n",
    "    cur = 0\n",
    "    words = dict.fromkeys(test)\n",
    "    for i in words.keys():\n",
    "        words[i] = cur\n",
    "        cur += 1\n",
    "    return ([words[i] for i in train], [words[i] for i in test])\n",
    "\n",
    "y_train, y_test = to_categorical_(y_train, y_test)"
   ]
  },
  {
   "cell_type": "code",
   "execution_count": 484,
   "metadata": {},
   "outputs": [
    {
     "name": "stdout",
     "output_type": "stream",
     "text": [
      "[9, 9, 9, 9, 9, 18, 18, 18, 18, 18, 11, 11, 11, 11, 11, 5, 5, 5, 5, 5, 8, 8, 8, 8, 8, 6, 6, 6, 6, 6, 7, 7, 7, 7, 7, 3, 3, 3, 3, 3, 13, 13, 13, 13, 13, 10, 10, 10, 10, 10, 4, 4, 4, 4, 4, 17, 17, 17, 17, 17, 16, 16, 16, 16, 16, 14, 14, 14, 14, 14, 2, 2, 2, 2, 2, 19, 19, 19, 19, 19, 1, 1, 1, 1, 1, 0, 0, 0, 0, 0, 12, 12, 12, 12, 12, 15, 15, 15, 15, 15]\n"
     ]
    }
   ],
   "source": [
    "print(y_test)"
   ]
  },
  {
   "cell_type": "code",
   "execution_count": 485,
   "metadata": {},
   "outputs": [
    {
     "name": "stdout",
     "output_type": "stream",
     "text": [
      "(100, 18000)\n",
      "(300, 18000)\n"
     ]
    }
   ],
   "source": [
    "x_test = map(abs, x_test)\n",
    "x_train = map(abs, x_train)\n",
    "\n",
    "test_samples, testx, testy, testz = np.shape(x_test)\n",
    "train_samples, trainx, trainy, trainz = np.shape(x_train)\n",
    "\n",
    "x_test = np.reshape(x_test, (test_samples, testx*testy*testz))\n",
    "x_train = np.reshape(x_train, (train_samples, trainx*trainy*trainz))\n",
    "\n",
    "print(np.shape(x_test))\n",
    "print(np.shape(x_train))"
   ]
  },
  {
   "cell_type": "code",
   "execution_count": 486,
   "metadata": {},
   "outputs": [
    {
     "name": "stdout",
     "output_type": "stream",
     "text": [
      "0.75\n"
     ]
    }
   ],
   "source": [
    "y_allPred = []\n",
    "y_allVal = []\n",
    "\n",
    "clf = svm.SVC(gamma='auto', kernel='rbf', decision_function_shape='ovo')\n",
    "clf.fit(x_train, y_train)\n",
    "\n",
    "y_pred = clf.predict(x_test)\n",
    "y_allPred = np.append(y_allPred, y_pred)\n",
    "y_allVal = np.append(y_allVal, y_test)\n",
    "print (accuracy_score(y_test, y_pred))"
   ]
  }
 ],
 "metadata": {
  "kernelspec": {
   "display_name": "Python 2",
   "language": "python",
   "name": "python2"
  },
  "language_info": {
   "codemirror_mode": {
    "name": "ipython",
    "version": 2
   },
   "file_extension": ".py",
   "mimetype": "text/x-python",
   "name": "python",
   "nbconvert_exporter": "python",
   "pygments_lexer": "ipython2",
   "version": "2.7.17"
  }
 },
 "nbformat": 4,
 "nbformat_minor": 2
}
