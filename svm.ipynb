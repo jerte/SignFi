{
 "cells": [
  {
   "cell_type": "markdown",
   "metadata": {},
   "source": [
    "## TO DO\n",
    "add accuracy plots, confusion matrix\n",
    "\n",
    "kfolds, stratified kfold\n",
    "\n",
    "scores by # words used for classification and dataset\n",
    "\n",
    "track best words for classification\n",
    "\n",
    "PCA?\n",
    "\n",
    "add phase for angle of arrival as well, not just amplitude attenuation"
   ]
  },
  {
   "cell_type": "code",
   "execution_count": 20,
   "metadata": {},
   "outputs": [],
   "source": [
    "#from imblearn.over_sampling import RandomOverSampler, SMOTE\n",
    "#import matplotlib.pyplot as plt\n",
    "#from sklearn.decomposition import PCA\n",
    "\n",
    "import numpy as np\n",
    "from sklearn.model_selection import train_test_split, KFold, StratifiedKFold\n",
    "from sklearn import svm \n",
    "from sklearn.metrics import accuracy_score\n",
    "from statistics import mean\n",
    "import random\n",
    "from scipy.io import loadmat"
   ]
  },
  {
   "cell_type": "code",
   "execution_count": 21,
   "metadata": {},
   "outputs": [],
   "source": [
    "# Variables to tweak\n",
    "num_words = 20\n",
    "dset = 'dl'\n",
    "#kfolds = "
   ]
  },
  {
   "cell_type": "code",
   "execution_count": 22,
   "metadata": {},
   "outputs": [
    {
     "name": "stdout",
     "output_type": "stream",
     "text": [
      "(30, 3, 5520)\n",
      "['csid_lab', '__version__', 'label_lab', '__header__', '__globals__']\n"
     ]
    }
   ],
   "source": [
    "d = 'datasets/'\n",
    "\n",
    "if dset == 'dl':\n",
    "    x = loadmat(d + 'dataset_lab_276_dl.mat')\n",
    "    data = x['csid_lab']\n",
    "    print(x['csid_lab'][0].shape)\n",
    "    \n",
    "elif dset == 'ul':\n",
    "    x = loadmat(d + 'dataset_lab_276_ul.mat')\n",
    "    data = x['csiu_lab']\n",
    "    print(x['csiu_lab'][0].shape)\n",
    "    \n",
    "elif dset == 'home':\n",
    "    x = loadmat(d + 'dataset_home_276.mat')\n",
    "    data = x['csid_home']\n",
    "    print(x['csid_home'][0].shape)\n",
    "    \n",
    "print(x.keys())"
   ]
  },
  {
   "cell_type": "code",
   "execution_count": 23,
   "metadata": {},
   "outputs": [
    {
     "name": "stdout",
     "output_type": "stream",
     "text": [
      "276\n",
      "5520\n",
      "FINISH\n"
     ]
    }
   ],
   "source": [
    "with open('sign_labels.csv') as f:\n",
    "    labels = f.readlines()[0].split('\\r')\n",
    "    labels[0] = labels[0][3:]               # whitespace error with first element\n",
    "    print(len(labels))\n",
    "\n",
    "# make ground truth for each element\n",
    "label_ind = [i[0]-1 for i in x['label_lab']]\n",
    "print(len(label_ind))\n",
    "print(labels[label_ind[0]]) #first label in dataset"
   ]
  },
  {
   "cell_type": "code",
   "execution_count": 24,
   "metadata": {},
   "outputs": [],
   "source": [
    "random_words = []\n",
    "while(len(random_words)!=num_words):\n",
    "    a = int(random.random() * 276)\n",
    "    if a not in random_words:\n",
    "        random_words.append(a)"
   ]
  },
  {
   "cell_type": "code",
   "execution_count": 25,
   "metadata": {},
   "outputs": [
    {
     "name": "stdout",
     "output_type": "stream",
     "text": [
      "COLOR\n",
      "CUTE\n",
      "WHO\n",
      "BOOK\n",
      "GROSS\n",
      "STUDENT\n",
      "YOUNG\n",
      "SO-SO\n",
      "WITH\n",
      "MATH\n",
      "GO\n",
      "AGAIN\n",
      "FAMILY\n",
      "NOT\n",
      "ORANGE\n",
      "CLEAN\n",
      "MEAN\n",
      "AWFUL\n",
      "TV\n",
      "WHERE\n"
     ]
    }
   ],
   "source": [
    "label_indices = []\n",
    "\n",
    "for i in random_words:\n",
    "    label_indices.append(np.where(x['label_lab']==[i])[0]) # indices of where labels are the same \n",
    "                                                           # throughout dataset (same words)\n",
    "# words being used\n",
    "for i in range(0, len(label_indices)):\n",
    "    print(labels[label_indices[i][0]])"
   ]
  },
  {
   "cell_type": "code",
   "execution_count": 26,
   "metadata": {},
   "outputs": [
    {
     "data": {
      "text/plain": [
       "[2, 11, 15, 0, 5]"
      ]
     },
     "execution_count": 26,
     "metadata": {},
     "output_type": "execute_result"
    }
   ],
   "source": [
    "# randomly sample percent% from each sample for testing\n",
    "\n",
    "def get_rand_indices(size, percent):\n",
    "    test_set_size = int(size * percent)\n",
    "    test_set_ind = []\n",
    "\n",
    "    while(len(test_set_ind)<=test_set_size):\n",
    "        rand = int(random.random() * size)\n",
    "        if rand not in test_set_ind:\n",
    "            test_set_ind.append(rand)\n",
    "    return test_set_ind\n",
    "\n",
    "\n",
    "get_rand_indices(20, .2)"
   ]
  },
  {
   "cell_type": "code",
   "execution_count": 27,
   "metadata": {},
   "outputs": [],
   "source": [
    "x_train = []\n",
    "x_test = []\n",
    "y_train = []\n",
    "y_test = []\n",
    "\n",
    "for i in label_indices:\n",
    "    test_indices = get_rand_indices(len(i), .2)\n",
    "    train_indices = [j for j in range(0, len(i)) if j not in test_indices]\n",
    "    for j in test_indices:\n",
    "        x_test.append(data[:,:,:,i[j]])\n",
    "        y_test.append(i[j]%276)\n",
    "        \n",
    "    for j in train_indices:\n",
    "        x_train.append(data[:,:,:,i[j]])\n",
    "        y_train.append(i[j]%276)"
   ]
  },
  {
   "cell_type": "code",
   "execution_count": 28,
   "metadata": {},
   "outputs": [
    {
     "name": "stdout",
     "output_type": "stream",
     "text": [
      "(300, 200, 30, 3)\n",
      "(300,)\n",
      "(100, 200, 30, 3)\n",
      "(100,)\n"
     ]
    }
   ],
   "source": [
    "print(np.shape(x_train))\n",
    "print(np.shape(y_train))\n",
    "print(np.shape(x_test))\n",
    "print(np.shape(y_test))"
   ]
  },
  {
   "cell_type": "code",
   "execution_count": 29,
   "metadata": {},
   "outputs": [],
   "source": [
    "# simplify indexes to [0 - num_words]\n",
    "\n",
    "def to_categorical_(train, test):\n",
    "    cur = 0\n",
    "    words = dict.fromkeys(test)\n",
    "    for i in words.keys():\n",
    "        words[i] = cur\n",
    "        cur += 1\n",
    "    return ([words[i] for i in train], [words[i] for i in test])\n",
    "\n",
    "y_train, y_test = to_categorical_(y_train, y_test)"
   ]
  },
  {
   "cell_type": "code",
   "execution_count": 30,
   "metadata": {},
   "outputs": [
    {
     "name": "stdout",
     "output_type": "stream",
     "text": [
      "(100, 18000)\n",
      "(300, 18000)\n"
     ]
    }
   ],
   "source": [
    "# map(abs, x) -> amplitide of complex #'s, model is currently looking at amplitude attenuation in signals\n",
    "\n",
    "# reshape data to train model\n",
    "\n",
    "x_test = map(abs, x_test)\n",
    "x_train = map(abs, x_train)\n",
    "\n",
    "test_samples, testx, testy, testz = np.shape(x_test)\n",
    "train_samples, trainx, trainy, trainz = np.shape(x_train)\n",
    "\n",
    "x_test = np.reshape(x_test, (test_samples, testx*testy*testz))\n",
    "x_train = np.reshape(x_train, (train_samples, trainx*trainy*trainz))\n",
    "\n",
    "print(np.shape(x_test))\n",
    "print(np.shape(x_train))"
   ]
  },
  {
   "cell_type": "code",
   "execution_count": 31,
   "metadata": {},
   "outputs": [
    {
     "name": "stdout",
     "output_type": "stream",
     "text": [
      "0.77\n"
     ]
    }
   ],
   "source": [
    "y_allPred = []\n",
    "y_allVal = []\n",
    "\n",
    "clf = svm.SVC(gamma='auto', kernel='rbf', decision_function_shape='ovo')\n",
    "clf.fit(x_train, y_train)\n",
    "\n",
    "y_pred = clf.predict(x_test)\n",
    "y_allPred = np.append(y_allPred, y_pred)\n",
    "y_allVal = np.append(y_allVal, y_test)\n",
    "print (accuracy_score(y_test, y_pred))"
   ]
  }
 ],
 "metadata": {
  "kernelspec": {
   "display_name": "Python 2",
   "language": "python",
   "name": "python2"
  },
  "language_info": {
   "codemirror_mode": {
    "name": "ipython",
    "version": 2
   },
   "file_extension": ".py",
   "mimetype": "text/x-python",
   "name": "python",
   "nbconvert_exporter": "python",
   "pygments_lexer": "ipython2",
   "version": "2.7.17"
  }
 },
 "nbformat": 4,
 "nbformat_minor": 2
}
